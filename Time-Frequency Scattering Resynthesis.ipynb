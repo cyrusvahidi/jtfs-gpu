{
 "cells": [
  {
   "cell_type": "code",
   "execution_count": 8,
   "id": "f10672d0",
   "metadata": {},
   "outputs": [],
   "source": [
    "import numpy as np\n",
    "import matplotlib.pyplot as plt\n",
    "import torch\n",
    "\n",
    "from torch.autograd import backward\n",
    "from kymatio.torch import TimeFrequencyScattering1D"
   ]
  },
  {
   "cell_type": "markdown",
   "id": "bc8e6dc2",
   "metadata": {},
   "source": [
    "### Create the filterbank"
   ]
  },
  {
   "cell_type": "code",
   "execution_count": 9,
   "id": "6d4ec4be",
   "metadata": {},
   "outputs": [],
   "source": [
    "N = 2**14\n",
    "jtfs = TimeFrequencyScattering1D(\n",
    "    J = 8, \n",
    "    shape = (N, ), \n",
    "    Q = 12, \n",
    "    T = N, \n",
    "    max_pad_factor=1,\n",
    "    max_pad_factor_fr=1,\n",
    "#     F = 6,\n",
    "#     average_fr = True,\n",
    ")"
   ]
  },
  {
   "cell_type": "markdown",
   "id": "68197e28",
   "metadata": {},
   "source": [
    "### Gradient Descent"
   ]
  },
  {
   "cell_type": "code",
   "execution_count": 11,
   "id": "76b9e342",
   "metadata": {},
   "outputs": [
    {
     "ename": "NameError",
     "evalue": "name 'generate_harmonic_signal' is not defined",
     "output_type": "error",
     "traceback": [
      "\u001b[0;31m---------------------------------------------------------------------------\u001b[0m",
      "\u001b[0;31mNameError\u001b[0m                                 Traceback (most recent call last)",
      "\u001b[0;32m/tmp/ipykernel_41366/683029976.py\u001b[0m in \u001b[0;36m<module>\u001b[0;34m\u001b[0m\n\u001b[1;32m      8\u001b[0m \u001b[0mS_noise\u001b[0m \u001b[0;34m=\u001b[0m \u001b[0mjtfs\u001b[0m\u001b[0;34m(\u001b[0m\u001b[0mnoise\u001b[0m\u001b[0;34m)\u001b[0m\u001b[0;34m\u001b[0m\u001b[0;34m\u001b[0m\u001b[0m\n\u001b[1;32m      9\u001b[0m \u001b[0;34m\u001b[0m\u001b[0m\n\u001b[0;32m---> 10\u001b[0;31m \u001b[0mtarget\u001b[0m \u001b[0;34m=\u001b[0m \u001b[0mgenerate_harmonic_signal\u001b[0m\u001b[0;34m(\u001b[0m\u001b[0mN\u001b[0m\u001b[0;34m)\u001b[0m \u001b[0;31m# harmonic signal\u001b[0m\u001b[0;34m\u001b[0m\u001b[0;34m\u001b[0m\u001b[0m\n\u001b[0m\u001b[1;32m     11\u001b[0m \u001b[0;34m\u001b[0m\u001b[0m\n\u001b[1;32m     12\u001b[0m \u001b[0;34m\u001b[0m\u001b[0m\n",
      "\u001b[0;31mNameError\u001b[0m: name 'generate_harmonic_signal' is not defined"
     ]
    }
   ],
   "source": [
    "lr = 100\n",
    "n_iter = 200\n",
    "err_history = []\n",
    "\n",
    "torch.manual_seed(0)\n",
    "noise = torch.randn((N,), requires_grad=True)\n",
    "S_noise = jtfs(noise)\n",
    "\n",
    "target = generate_harmonic_signal(N) # harmonic signal\n",
    "S_target = jtfs(target)\n",
    "\n",
    "for i in range(n_iter):\n",
    "    err = torch.norm(S_noise - S_target)\n",
    "    err_history.append[err]\n",
    "    err.backward() # backward pass\n",
    "    \n",
    "    # gradient descent\n",
    "    delta_y = noise.grad\n",
    "    with torch.no_grad():\n",
    "        noise_new = noise - learning_rate * delta_y\n",
    "    noise_new.requires_grad = True        \n",
    "    noise = noise_new\n",
    "    \n",
    "    S_noise = jtfs(noise) # forward pass\n"
   ]
  }
 ],
 "metadata": {
  "kernelspec": {
   "display_name": "Python 3 (ipykernel)",
   "language": "python",
   "name": "python3"
  },
  "language_info": {
   "codemirror_mode": {
    "name": "ipython",
    "version": 3
   },
   "file_extension": ".py",
   "mimetype": "text/x-python",
   "name": "python",
   "nbconvert_exporter": "python",
   "pygments_lexer": "ipython3",
   "version": "3.8.2"
  }
 },
 "nbformat": 4,
 "nbformat_minor": 5
}
