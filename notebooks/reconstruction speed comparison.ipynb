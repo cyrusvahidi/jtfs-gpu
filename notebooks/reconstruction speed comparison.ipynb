{
 "cells": [
  {
   "cell_type": "code",
   "execution_count": 1,
   "id": "8f990a81",
   "metadata": {},
   "outputs": [],
   "source": [
    "import pickle\n",
    "import numpy as np\n",
    "import scipy.io\n",
    "import matplotlib.pyplot as plt"
   ]
  },
  {
   "cell_type": "code",
   "execution_count": 2,
   "id": "bce2efb6",
   "metadata": {},
   "outputs": [],
   "source": [
    "#python\n",
    "time_record_py = \"../scripts/reconstruction_acc_time.pickle\"\n",
    "err_record_py = \"../scripts/reconstruction_acc_error.pickle\"\n",
    "#matlab\n",
    "time_rec_ml = \"../scripts/reconstruct_meta.mat\""
   ]
  },
  {
   "cell_type": "code",
   "execution_count": 12,
   "id": "e80d2985",
   "metadata": {},
   "outputs": [],
   "source": [
    "time_py_biased = pickle.load(open(time_record_py, \"rb\" ))\n",
    "err_py = pickle.load(open(err_record_py,\"rb\"))"
   ]
  },
  {
   "cell_type": "code",
   "execution_count": 14,
   "id": "6a212248",
   "metadata": {},
   "outputs": [],
   "source": [
    "#first recored time is the forward pass time\n",
    "time_py = np.array(time_py_biased[1:])+time_py_biased[0]/(len(time_py_biased)-1)"
   ]
  },
  {
   "cell_type": "code",
   "execution_count": 21,
   "id": "800bbb19",
   "metadata": {},
   "outputs": [
    {
     "data": {
      "text/plain": [
       "0.7318244802951813"
      ]
     },
     "execution_count": 21,
     "metadata": {},
     "output_type": "execute_result"
    }
   ],
   "source": [
    "np.mean(time_py)"
   ]
  },
  {
   "cell_type": "code",
   "execution_count": 4,
   "id": "aa3ddab4",
   "metadata": {},
   "outputs": [],
   "source": [
    "time_ml = scipy.io.loadmat(time_rec_ml)"
   ]
  },
  {
   "cell_type": "code",
   "execution_count": 5,
   "id": "5167c26b",
   "metadata": {},
   "outputs": [
    {
     "data": {
      "text/plain": [
       "{'__header__': b'MATLAB 5.0 MAT-file, Platform: MACI64, Created on: Wed Mar 23 17:13:11 2022',\n",
       " '__version__': '1.0',\n",
       " '__globals__': [],\n",
       " 'T_elapsed': array([[7.05836941, 6.14066433, 5.78170572, 5.82488523, 5.84281104,\n",
       "         5.7050916 , 5.75283978, 5.69138882, 5.67765047, 5.71293002,\n",
       "         5.76609858, 5.70000115, 5.92676664, 6.32562621, 5.95290881,\n",
       "         5.68325734, 6.63508217, 6.7277872 , 7.15944032, 7.94893553]])}"
      ]
     },
     "execution_count": 5,
     "metadata": {},
     "output_type": "execute_result"
    }
   ],
   "source": [
    "time_ml"
   ]
  },
  {
   "cell_type": "code",
   "execution_count": 16,
   "id": "0c30c37f",
   "metadata": {
    "scrolled": false
   },
   "outputs": [
    {
     "data": {
      "text/plain": [
       "(200, (1, 20))"
      ]
     },
     "execution_count": 16,
     "metadata": {},
     "output_type": "execute_result"
    }
   ],
   "source": [
    "len(time_py),time_ml['T_elapsed'].shape"
   ]
  },
  {
   "cell_type": "code",
   "execution_count": 30,
   "id": "56a6305b",
   "metadata": {},
   "outputs": [
    {
     "name": "stdout",
     "output_type": "stream",
     "text": [
      "[4.324708557783054e-05, 0.38262988424022876] [0.7318244802951813, 6.150712018449999]\n"
     ]
    },
    {
     "data": {
      "image/png": "[encoded data removed]",
      "text/plain": [
       "<Figure size 288x144 with 1 Axes>"
      ]
     },
     "metadata": {
      "needs_background": "light"
     },
     "output_type": "display_data"
    }
   ],
   "source": [
    "fig = plt.figure(figsize=(4,2))\n",
    "ax = fig.add_axes([0,0,1,1])\n",
    "langs = ['Kymatio', 'scattering.m']\n",
    "time_lapsed = [np.mean(time_py),np.mean(time_ml['T_elapsed'])]\n",
    "err_lapsed = [np.var(time_py),np.var(time_ml['T_elapsed'])]\n",
    "print(err_lapsed,time_lapsed)\n",
    "ax.bar(langs,time_lapsed,yerr=err_lapsed, capsize=10)\n",
    "ax.set_ylabel(\"Time (s)\",fontsize=10)\n",
    "ax.set_title(\"Time elapsed for each iteration of gradient descent\",fontsize=15)\n",
    "plt.show()"
   ]
  },
  {
   "cell_type": "code",
   "execution_count": null,
   "id": "cd959c9e",
   "metadata": {},
   "outputs": [],
   "source": []
  }
 ],
 "metadata": {
  "kernelspec": {
   "display_name": "Python 3 (ipykernel)",
   "language": "python",
   "name": "python3"
  },
  "language_info": {
   "codemirror_mode": {
    "name": "ipython",
    "version": 3
   },
   "file_extension": ".py",
   "mimetype": "text/x-python",
   "name": "python",
   "nbconvert_exporter": "python",
   "pygments_lexer": "ipython3",
   "version": "3.9.7"
  }
 },
 "nbformat": 4,
 "nbformat_minor": 5
}
