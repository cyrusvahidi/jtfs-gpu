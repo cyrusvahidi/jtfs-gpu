{
 "cells": [
  {
   "cell_type": "code",
   "execution_count": null,
   "id": "4e468a8f",
   "metadata": {},
   "outputs": [],
   "source": []
  },
  {
   "cell_type": "code",
   "execution_count": 2,
   "id": "70b96c33",
   "metadata": {},
   "outputs": [
    {
     "ename": "ModuleNotFoundError",
     "evalue": "No module named 'kymjtfs'",
     "output_type": "error",
     "traceback": [
      "\u001b[0;31m---------------------------------------------------------------------------\u001b[0m",
      "\u001b[0;31mModuleNotFoundError\u001b[0m                       Traceback (most recent call last)",
      "Input \u001b[0;32mIn [2]\u001b[0m, in \u001b[0;36m<module>\u001b[0;34m\u001b[0m\n\u001b[1;32m      6\u001b[0m \u001b[38;5;28;01mfrom\u001b[39;00m \u001b[38;5;21;01mefficientnet_pytorch\u001b[39;00m \u001b[38;5;28;01mimport\u001b[39;00m EfficientNet\n\u001b[1;32m      7\u001b[0m \u001b[38;5;28;01mfrom\u001b[39;00m \u001b[38;5;21;01mkymatio\u001b[39;00m\u001b[38;5;21;01m.\u001b[39;00m\u001b[38;5;21;01mtorch\u001b[39;00m \u001b[38;5;28;01mimport\u001b[39;00m TimeFrequencyScattering1D\n\u001b[0;32m----> 8\u001b[0m \u001b[38;5;28;01mfrom\u001b[39;00m \u001b[38;5;21;01mkymjtfs\u001b[39;00m\u001b[38;5;21;01m.\u001b[39;00m\u001b[38;5;21;01mbatch_norm\u001b[39;00m \u001b[38;5;28;01mimport\u001b[39;00m ScatteringBatchNorm\n\u001b[1;32m     10\u001b[0m \u001b[38;5;28;01mclass\u001b[39;00m \u001b[38;5;21;01mMedleySolosClassifier\u001b[39;00m(LightningModule):\n\u001b[1;32m     11\u001b[0m     \u001b[38;5;28;01mdef\u001b[39;00m \u001b[38;5;21m__init__\u001b[39m(\u001b[38;5;28mself\u001b[39m, in_shape \u001b[38;5;241m=\u001b[39m \u001b[38;5;241m2\u001b[39m\u001b[38;5;241m*\u001b[39m\u001b[38;5;241m*\u001b[39m\u001b[38;5;241m17\u001b[39m, J \u001b[38;5;241m=\u001b[39m \u001b[38;5;241m12\u001b[39m, Q \u001b[38;5;241m=\u001b[39m \u001b[38;5;241m16\u001b[39m, F \u001b[38;5;241m=\u001b[39m \u001b[38;5;241m4\u001b[39m, T \u001b[38;5;241m=\u001b[39m \u001b[38;5;241m2\u001b[39m\u001b[38;5;241m*\u001b[39m\u001b[38;5;241m*\u001b[39m\u001b[38;5;241m12\u001b[39m):\n",
      "\u001b[0;31mModuleNotFoundError\u001b[0m: No module named 'kymjtfs'"
     ]
    }
   ],
   "source": [
    "import torch\n",
    "from torch.nn import functional as F\n",
    "from torch import nn\n",
    "from pytorch_lightning.core.lightning import LightningModule\n",
    "\n",
    "from efficientnet_pytorch import EfficientNet\n",
    "from kymatio.torch import TimeFrequencyScattering1D\n",
    "from kymjtfs.batch_norm import ScatteringBatchNorm\n",
    "\n",
    "class MedleySolosClassifier(LightningModule):\n",
    "    def __init__(self, in_shape = 2**17, J = 12, Q = 16, F = 4, T = 2**12):\n",
    "        super().__init__()\n",
    "\n",
    "        self.in_shape = in_shape\n",
    "        self.J = J\n",
    "        self.Q = Q\n",
    "        self.F = F\n",
    "        self.T = T\n",
    "        \n",
    "        self.s1_conv1 = nn.Conv2d(1, 4, kernel_size=(16, 1))\n",
    "        \n",
    "        self.setup_jtfs()\n",
    "        \n",
    "        self.conv_net = EfficientNet(global_params = {'include_top': True, 'num_classes': 8})\n",
    "\n",
    "    def setup_jtfs(self):\n",
    "        self.jtfs = TimeFrequencyScattering1D(\n",
    "            shape=(self.in_shape, ),\n",
    "            T=self.T,\n",
    "            Q=self.Q,\n",
    "            J=self.J,\n",
    "            F=self.F,\n",
    "            average_fr=True,\n",
    "            max_pad_factor=1, \n",
    "            max_pad_factor_fr=1,\n",
    "            out_3D=True,)\n",
    "        \n",
    "        n_channels = self._get_jtfs_out_dim()\n",
    "        \n",
    "        out_dim = self._get_jtfs_out_dim()\n",
    "        self.jtfs_bn = ScatteringBatchNorm(out_dim)\n",
    "        \n",
    "    def training_step(self, batch, batch_idx):\n",
    "        x, y = batch\n",
    "        logits = self(x)\n",
    "        loss = F.nll_loss(logits, y)\n",
    "        return loss\n",
    "\n",
    "    def forward(self, x):\n",
    "        Sx = self.jtfs(x)\n",
    "        \n",
    "        s1, s2 = Sx[0], Sx[1]\n",
    "        s1 = F.pad(self._s1_forward(s1), \n",
    "                   (0, 0, s2[1].shape[-2] - s1.shape[-2], 0))\n",
    "        \n",
    "        sx = torch.cat([s1, s2], dim=1)[:, :, :32, :]\n",
    "        sx = self.jtfs_bn(sx)\n",
    "        y = self.conv_net(sx)\n",
    "        y = F.log_softmax(y, dim=1)\n",
    "        return y\n",
    "    \n",
    "    def configure_optimizers(self):\n",
    "        opt = Adam(self.parameters(), lr=1e-3)\n",
    "        scheduler = CosineAnnealingLR(opt, T_max=10)\n",
    "        return [opt], [scheduler]\n",
    "    \n",
    "    def _get_jtfs_out_dim(self):\n",
    "        dummy_in = torch.randn(self.in_shape)  \n",
    "        sx = self.jtfs(dummy_in)\n",
    "        s1 = self._s1_forward(sx[0])\n",
    "        s1 = F.pad(s1, (0, 0, sx[1].shape[-2] - s1.shape[-2], 0))\n",
    "        S = torch.cat([s1, Sx[1]], dim=1)\n",
    "        out_dim = S.size(1)\n",
    "        return out_dim\n",
    "        \n",
    "    def _s1_forward(self, s1):\n",
    "        s1 = s1.unsqueeze(1)\n",
    "        return F.avg_pool2d(F.relu(self.s1_conv1(s1)), \n",
    "                            kernel_size=(4, 1), \n",
    "                            padding=(2, 0))"
   ]
  },
  {
   "cell_type": "code",
   "execution_count": null,
   "id": "edf07d3c",
   "metadata": {},
   "outputs": [],
   "source": [
    "from torch.utils.data import Dataset, DataLoader\n",
    "\n",
    "class MedleySolosDB(Dataset):\n",
    "    def __init__(self, csv_path):\n",
    "        super().__init__()\n",
    "\n",
    "    def __getitem__(self):\n",
    "       raise NotImplementedError\n",
    "\n",
    "    def __len__(self):\n",
    "        raise NotImplementedError"
   ]
  },
  {
   "cell_type": "code",
   "execution_count": null,
   "id": "ca5d74de",
   "metadata": {},
   "outputs": [],
   "source": [
    "import os\n",
    "from pytorch_lightning import Trainer\n",
    "\n",
    "train_loader = MedleyDBSolos()\n",
    "train_ds = DataLoader(train_loader, batch_size=64)"
   ]
  },
  {
   "cell_type": "code",
   "execution_count": null,
   "id": "c6b14749",
   "metadata": {},
   "outputs": [],
   "source": [
    "MedleySolosClassifier()"
   ]
  }
 ],
 "metadata": {
  "kernelspec": {
   "display_name": "Python 3 (ipykernel)",
   "language": "python",
   "name": "python3"
  },
  "language_info": {
   "codemirror_mode": {
    "name": "ipython",
    "version": 3
   },
   "file_extension": ".py",
   "mimetype": "text/x-python",
   "name": "python",
   "nbconvert_exporter": "python",
   "pygments_lexer": "ipython3",
   "version": "3.8.2"
  }
 },
 "nbformat": 4,
 "nbformat_minor": 5
}
