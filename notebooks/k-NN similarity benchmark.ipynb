{
 "cells": [
  {
   "cell_type": "code",
   "execution_count": 26,
   "id": "74ff2ca8",
   "metadata": {},
   "outputs": [],
   "source": [
    "import glob\n",
    "import matplotlib\n",
    "import numpy as np\n",
    "import os\n",
    "%matplotlib inline\n",
    "\n",
    "data_dir = \"../data/\"\n",
    "features = [\"strf\", \"jtfs\"]\n",
    "\n",
    "npys = sorted(glob.glob(os.path.join(data_dir, feat, \"*.npy\")))\n",
    "X = {feat: [] for feat in features}\n",
    "\n",
    "for feat in features:\n",
    "    for n in range(N):\n",
    "        x = np.load(os.path.join(data_dir, feat, \"{}.npy\".format(n)))\n",
    "        if feat==\"strf\":\n",
    "            x = x.ravel()\n",
    "        X[feat].append(x)\n",
    "\n",
    "    X[feat] = np.stack(X[feat], axis=0)"
   ]
  },
  {
   "cell_type": "code",
   "execution_count": 30,
   "id": "987aba47",
   "metadata": {},
   "outputs": [],
   "source": [
    "Y = np.load(os.path.join(data_dir, \"cmap.npy\"))"
   ]
  },
  {
   "cell_type": "code",
   "execution_count": 31,
   "id": "ad1a37e2",
   "metadata": {},
   "outputs": [
    {
     "data": {
      "text/plain": [
       "array([[100.        ,   4.        ,   0.5       ],\n",
       "       [100.        ,   4.        ,   0.57434916],\n",
       "       [100.        ,   4.        ,   0.659754  ],\n",
       "       ...,\n",
       "       [200.        ,  32.        ,   3.031433  ],\n",
       "       [200.        ,  32.        ,   3.4822023 ],\n",
       "       [200.        ,  32.        ,   4.        ]], dtype=float32)"
      ]
     },
     "execution_count": 31,
     "metadata": {},
     "output_type": "execute_result"
    }
   ],
   "source": [
    "Y"
   ]
  },
  {
   "cell_type": "code",
   "execution_count": null,
   "id": "bb2b4a29",
   "metadata": {},
   "outputs": [],
   "source": []
  }
 ],
 "metadata": {
  "kernelspec": {
   "display_name": "Python 3 (ipykernel)",
   "language": "python",
   "name": "python3"
  },
  "language_info": {
   "codemirror_mode": {
    "name": "ipython",
    "version": 3
   },
   "file_extension": ".py",
   "mimetype": "text/x-python",
   "name": "python",
   "nbconvert_exporter": "python",
   "pygments_lexer": "ipython3",
   "version": "3.10.0"
  }
 },
 "nbformat": 4,
 "nbformat_minor": 5
}
