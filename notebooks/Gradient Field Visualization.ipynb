{
 "cells": [
  {
   "cell_type": "code",
   "execution_count": 57,
   "id": "6098b9dc",
   "metadata": {},
   "outputs": [],
   "source": [
    "import numpy as np, scipy, torch\n",
    "from kymatio.torch import TimeFrequencyScattering1D, Scattering1D\n",
    "from kymjtfs.utils import generate_am_chirp\n",
    "\n",
    "f0 = 512\n",
    "fms = np.logspace(np.log10(4), np.log10(16), 10)\n",
    "gammas = np.logspace(np.log10(0.5), np.log10(4), 10)\n",
    "sr = 2**13\n",
    "duration = 4\n",
    "N = sr * duration\n",
    "\n",
    "jtfs = TimeFrequencyScattering1D(\n",
    "    shape=(N,), T=N, Q=8, J=int(np.log2(N) - 1), J_fr=6, max_pad_factor=1, max_pad_factor_fr=1\n",
    ").cuda()"
   ]
  },
  {
   "cell_type": "code",
   "execution_count": 62,
   "id": "acfa7d18",
   "metadata": {},
   "outputs": [
    {
     "ename": "ModuleNotFoundError",
     "evalue": "No module named 'functorch'",
     "output_type": "error",
     "traceback": [
      "\u001b[0;31m---------------------------------------------------------------------------\u001b[0m",
      "\u001b[0;31mModuleNotFoundError\u001b[0m                       Traceback (most recent call last)",
      "\u001b[0;32m/tmp/ipykernel_37110/942722008.py\u001b[0m in \u001b[0;36m<module>\u001b[0;34m\u001b[0m\n\u001b[0;32m----> 1\u001b[0;31m \u001b[0;32mimport\u001b[0m \u001b[0mfunctorch\u001b[0m\u001b[0;34m\u001b[0m\u001b[0;34m\u001b[0m\u001b[0m\n\u001b[0m",
      "\u001b[0;31mModuleNotFoundError\u001b[0m: No module named 'functorch'"
     ]
    }
   ],
   "source": [
    "import functorch"
   ]
  },
  {
   "cell_type": "code",
   "execution_count": 60,
   "id": "a6bfe57f",
   "metadata": {},
   "outputs": [
    {
     "name": "stderr",
     "output_type": "stream",
     "text": [
      "  0%|                                                                                          | 0/10 [00:00<?, ?it/s]\n",
      "  0%|                                                                                          | 0/10 [00:00<?, ?it/s]\u001b[A\n",
      " 10%|████████▏                                                                         | 1/10 [00:00<00:03,  2.59it/s]\u001b[A/tmp/ipykernel_37110/1863453174.py:10: UserWarning: To copy construct from a tensor, it is recommended to use sourceTensor.clone().detach() or sourceTensor.clone().detach().requires_grad_(True), rather than torch.tensor(sourceTensor).\n",
      "  fm = torch.tensor(fm, requires_grad=True)\n",
      "\n",
      " 20%|████████████████▍                                                                 | 2/10 [00:00<00:03,  2.54it/s]\u001b[A\n",
      " 30%|████████████████████████▌                                                         | 3/10 [00:01<00:02,  2.48it/s]\u001b[A\n",
      " 40%|████████████████████████████████▊                                                 | 4/10 [00:01<00:02,  2.50it/s]\u001b[A\n",
      " 50%|█████████████████████████████████████████                                         | 5/10 [00:02<00:02,  2.49it/s]\u001b[A\n",
      " 60%|█████████████████████████████████████████████████▏                                | 6/10 [00:02<00:01,  2.48it/s]\u001b[A\n",
      " 70%|█████████████████████████████████████████████████████████▍                        | 7/10 [00:02<00:01,  2.48it/s]\u001b[A\n",
      " 80%|█████████████████████████████████████████████████████████████████▌                | 8/10 [00:03<00:00,  2.44it/s]\u001b[A\n",
      " 90%|█████████████████████████████████████████████████████████████████████████▊        | 9/10 [00:03<00:00,  2.48it/s]\u001b[A\n",
      "100%|█████████████████████████████████████████████████████████████████████████████████| 10/10 [00:04<00:00,  2.49it/s]\u001b[A\n",
      " 10%|████████▏                                                                         | 1/10 [00:04<00:36,  4.01s/it]\n",
      "  0%|                                                                                          | 0/10 [00:00<?, ?it/s]\u001b[A\n",
      " 10%|████████▏                                                                         | 1/10 [00:00<00:03,  2.62it/s]\u001b[A\n",
      " 20%|████████████████▍                                                                 | 2/10 [00:00<00:03,  2.50it/s]\u001b[A\n",
      " 30%|████████████████████████▌                                                         | 3/10 [00:01<00:02,  2.49it/s]\u001b[A\n",
      " 40%|████████████████████████████████▊                                                 | 4/10 [00:01<00:02,  2.54it/s]\u001b[A\n",
      " 50%|█████████████████████████████████████████                                         | 5/10 [00:01<00:01,  2.50it/s]\u001b[A\n",
      " 60%|█████████████████████████████████████████████████▏                                | 6/10 [00:02<00:01,  2.48it/s]\u001b[A\n",
      " 70%|█████████████████████████████████████████████████████████▍                        | 7/10 [00:02<00:01,  2.54it/s]\u001b[A\n",
      " 80%|█████████████████████████████████████████████████████████████████▌                | 8/10 [00:03<00:00,  2.52it/s]\u001b[A\n",
      " 90%|█████████████████████████████████████████████████████████████████████████▊        | 9/10 [00:03<00:00,  2.49it/s]\u001b[A\n",
      "100%|█████████████████████████████████████████████████████████████████████████████████| 10/10 [00:03<00:00,  2.51it/s]\u001b[A\n",
      " 20%|████████████████▍                                                                 | 2/10 [00:07<00:31,  4.00s/it]\n",
      "  0%|                                                                                          | 0/10 [00:00<?, ?it/s]\u001b[A\n",
      " 10%|████████▏                                                                         | 1/10 [00:00<00:03,  2.47it/s]\u001b[A\n",
      " 20%|████████████████▍                                                                 | 2/10 [00:00<00:03,  2.45it/s]\u001b[A\n",
      " 30%|████████████████████████▌                                                         | 3/10 [00:01<00:02,  2.52it/s]\u001b[A\n",
      " 40%|████████████████████████████████▊                                                 | 4/10 [00:01<00:02,  2.52it/s]\u001b[A\n",
      " 50%|█████████████████████████████████████████                                         | 5/10 [00:02<00:02,  2.49it/s]\u001b[A\n",
      " 60%|█████████████████████████████████████████████████▏                                | 6/10 [00:02<00:01,  2.47it/s]\u001b[A\n",
      " 70%|█████████████████████████████████████████████████████████▍                        | 7/10 [00:02<00:01,  2.49it/s]\u001b[A\n",
      " 80%|█████████████████████████████████████████████████████████████████▌                | 8/10 [00:03<00:00,  2.46it/s]\u001b[A\n",
      " 90%|█████████████████████████████████████████████████████████████████████████▊        | 9/10 [00:03<00:00,  2.47it/s]\u001b[A\n",
      "100%|█████████████████████████████████████████████████████████████████████████████████| 10/10 [00:04<00:00,  2.48it/s]\u001b[A\n",
      " 30%|████████████████████████▌                                                         | 3/10 [00:12<00:28,  4.01s/it]\n",
      "  0%|                                                                                          | 0/10 [00:00<?, ?it/s]\u001b[A\n",
      " 10%|████████▏                                                                         | 1/10 [00:00<00:03,  2.48it/s]\u001b[A\n",
      " 20%|████████████████▍                                                                 | 2/10 [00:00<00:03,  2.51it/s]\u001b[A\n",
      " 30%|████████████████████████▌                                                         | 3/10 [00:01<00:02,  2.44it/s]\u001b[A\n",
      " 40%|████████████████████████████████▊                                                 | 4/10 [00:01<00:02,  2.42it/s]\u001b[A\n",
      " 50%|█████████████████████████████████████████                                         | 5/10 [00:02<00:02,  2.42it/s]\u001b[A\n",
      " 60%|█████████████████████████████████████████████████▏                                | 6/10 [00:02<00:01,  2.44it/s]\u001b[A\n",
      " 70%|█████████████████████████████████████████████████████████▍                        | 7/10 [00:02<00:01,  2.45it/s]\u001b[A\n",
      " 80%|█████████████████████████████████████████████████████████████████▌                | 8/10 [00:03<00:00,  2.48it/s]\u001b[A\n",
      " 90%|█████████████████████████████████████████████████████████████████████████▊        | 9/10 [00:03<00:00,  2.48it/s]\u001b[A\n",
      "100%|█████████████████████████████████████████████████████████████████████████████████| 10/10 [00:04<00:00,  2.46it/s]\u001b[A\n",
      " 40%|████████████████████████████████▊                                                 | 4/10 [00:16<00:24,  4.04s/it]\n",
      "  0%|                                                                                          | 0/10 [00:00<?, ?it/s]\u001b[A\n",
      " 10%|████████▏                                                                         | 1/10 [00:00<00:03,  2.45it/s]\u001b[A\n",
      " 20%|████████████████▍                                                                 | 2/10 [00:00<00:03,  2.48it/s]\u001b[A\n",
      " 30%|████████████████████████▌                                                         | 3/10 [00:01<00:02,  2.49it/s]\u001b[A\n",
      " 40%|████████████████████████████████▊                                                 | 4/10 [00:01<00:02,  2.54it/s]\u001b[A\n",
      " 50%|█████████████████████████████████████████                                         | 5/10 [00:02<00:02,  2.50it/s]\u001b[A\n",
      " 60%|█████████████████████████████████████████████████▏                                | 6/10 [00:02<00:01,  2.48it/s]\u001b[A\n",
      " 70%|█████████████████████████████████████████████████████████▍                        | 7/10 [00:02<00:01,  2.49it/s]\u001b[A\n",
      " 80%|█████████████████████████████████████████████████████████████████▌                | 8/10 [00:03<00:00,  2.48it/s]\u001b[A\n",
      " 90%|█████████████████████████████████████████████████████████████████████████▊        | 9/10 [00:03<00:00,  2.45it/s]\u001b[A\n",
      "100%|█████████████████████████████████████████████████████████████████████████████████| 10/10 [00:04<00:00,  2.47it/s]\u001b[A\n",
      " 50%|█████████████████████████████████████████                                         | 5/10 [00:20<00:20,  4.04s/it]\n",
      "  0%|                                                                                          | 0/10 [00:00<?, ?it/s]\u001b[A\n",
      " 10%|████████▏                                                                         | 1/10 [00:00<00:03,  2.43it/s]\u001b[A\n",
      " 20%|████████████████▍                                                                 | 2/10 [00:00<00:03,  2.52it/s]\u001b[A\n",
      " 30%|████████████████████████▌                                                         | 3/10 [00:01<00:02,  2.46it/s]\u001b[A\n"
     ]
    },
    {
     "name": "stderr",
     "output_type": "stream",
     "text": [
      " 40%|████████████████████████████████▊                                                 | 4/10 [00:01<00:02,  2.45it/s]\u001b[A\n",
      " 50%|█████████████████████████████████████████                                         | 5/10 [00:02<00:02,  2.46it/s]\u001b[A\n",
      " 60%|█████████████████████████████████████████████████▏                                | 6/10 [00:02<00:01,  2.45it/s]\u001b[A\n",
      " 70%|█████████████████████████████████████████████████████████▍                        | 7/10 [00:02<00:01,  2.45it/s]\u001b[A\n",
      " 80%|█████████████████████████████████████████████████████████████████▌                | 8/10 [00:03<00:00,  2.43it/s]\u001b[A\n",
      " 90%|█████████████████████████████████████████████████████████████████████████▊        | 9/10 [00:03<00:00,  2.44it/s]\u001b[A\n",
      "100%|█████████████████████████████████████████████████████████████████████████████████| 10/10 [00:04<00:00,  2.45it/s]\u001b[A\n",
      " 60%|█████████████████████████████████████████████████▏                                | 6/10 [00:24<00:16,  4.06s/it]\n",
      "  0%|                                                                                          | 0/10 [00:00<?, ?it/s]\u001b[A\n",
      " 10%|████████▏                                                                         | 1/10 [00:00<00:03,  2.54it/s]\u001b[A\n",
      " 20%|████████████████▍                                                                 | 2/10 [00:00<00:03,  2.50it/s]\u001b[A\n",
      " 30%|████████████████████████▌                                                         | 3/10 [00:01<00:02,  2.48it/s]\u001b[A\n",
      " 40%|████████████████████████████████▊                                                 | 4/10 [00:01<00:02,  2.44it/s]\u001b[A\n",
      " 50%|█████████████████████████████████████████                                         | 5/10 [00:02<00:02,  2.43it/s]\u001b[A\n",
      " 60%|█████████████████████████████████████████████████▏                                | 6/10 [00:02<00:01,  2.42it/s]\u001b[A\n",
      " 70%|█████████████████████████████████████████████████████████▍                        | 7/10 [00:02<00:01,  2.43it/s]\u001b[A\n",
      " 80%|█████████████████████████████████████████████████████████████████▌                | 8/10 [00:03<00:00,  2.46it/s]\u001b[A\n",
      " 90%|█████████████████████████████████████████████████████████████████████████▊        | 9/10 [00:03<00:00,  2.44it/s]\u001b[A\n",
      "100%|█████████████████████████████████████████████████████████████████████████████████| 10/10 [00:04<00:00,  2.44it/s]\u001b[A\n",
      " 70%|█████████████████████████████████████████████████████████▍                        | 7/10 [00:28<00:12,  4.07s/it]\n",
      "  0%|                                                                                          | 0/10 [00:00<?, ?it/s]\u001b[A\n",
      " 10%|████████▏                                                                         | 1/10 [00:00<00:03,  2.54it/s]\u001b[A\n",
      " 20%|████████████████▍                                                                 | 2/10 [00:00<00:03,  2.51it/s]\u001b[A\n",
      " 30%|████████████████████████▌                                                         | 3/10 [00:01<00:02,  2.49it/s]\u001b[A\n",
      " 40%|████████████████████████████████▊                                                 | 4/10 [00:01<00:02,  2.51it/s]\u001b[A\n",
      " 50%|█████████████████████████████████████████                                         | 5/10 [00:02<00:02,  2.47it/s]\u001b[A\n",
      " 60%|█████████████████████████████████████████████████▏                                | 6/10 [00:02<00:01,  2.46it/s]\u001b[A\n",
      " 70%|█████████████████████████████████████████████████████████▍                        | 7/10 [00:02<00:01,  2.45it/s]\u001b[A\n",
      " 80%|█████████████████████████████████████████████████████████████████▌                | 8/10 [00:03<00:00,  2.46it/s]\u001b[A\n",
      " 90%|█████████████████████████████████████████████████████████████████████████▊        | 9/10 [00:03<00:00,  2.47it/s]\u001b[A\n",
      "100%|█████████████████████████████████████████████████████████████████████████████████| 10/10 [00:04<00:00,  2.47it/s]\u001b[A\n",
      " 80%|█████████████████████████████████████████████████████████████████▌                | 8/10 [00:32<00:08,  4.07s/it]\n",
      "  0%|                                                                                          | 0/10 [00:00<?, ?it/s]\u001b[A\n",
      " 10%|████████▏                                                                         | 1/10 [00:00<00:03,  2.47it/s]\u001b[A\n",
      " 20%|████████████████▍                                                                 | 2/10 [00:00<00:03,  2.52it/s]\u001b[A\n",
      " 30%|████████████████████████▌                                                         | 3/10 [00:01<00:02,  2.49it/s]\u001b[A\n",
      " 40%|████████████████████████████████▊                                                 | 4/10 [00:01<00:02,  2.46it/s]\u001b[A\n",
      " 50%|█████████████████████████████████████████                                         | 5/10 [00:02<00:02,  2.46it/s]\u001b[A\n",
      " 60%|█████████████████████████████████████████████████▏                                | 6/10 [00:02<00:01,  2.44it/s]\u001b[A\n",
      " 70%|█████████████████████████████████████████████████████████▍                        | 7/10 [00:02<00:01,  2.44it/s]\u001b[A\n",
      " 80%|█████████████████████████████████████████████████████████████████▌                | 8/10 [00:03<00:00,  2.45it/s]\u001b[A\n",
      " 90%|█████████████████████████████████████████████████████████████████████████▊        | 9/10 [00:03<00:00,  2.43it/s]\u001b[A\n",
      "100%|█████████████████████████████████████████████████████████████████████████████████| 10/10 [00:04<00:00,  2.45it/s]\u001b[A\n",
      " 90%|█████████████████████████████████████████████████████████████████████████▊        | 9/10 [00:36<00:04,  4.08s/it]\n",
      "  0%|                                                                                          | 0/10 [00:00<?, ?it/s]\u001b[A\n",
      " 10%|████████▏                                                                         | 1/10 [00:00<00:03,  2.43it/s]\u001b[A\n",
      " 20%|████████████████▍                                                                 | 2/10 [00:00<00:03,  2.49it/s]\u001b[A\n",
      " 30%|████████████████████████▌                                                         | 3/10 [00:01<00:02,  2.49it/s]\u001b[A\n",
      " 40%|████████████████████████████████▊                                                 | 4/10 [00:01<00:02,  2.47it/s]\u001b[A\n",
      " 50%|█████████████████████████████████████████                                         | 5/10 [00:02<00:02,  2.49it/s]\u001b[A\n",
      " 60%|█████████████████████████████████████████████████▏                                | 6/10 [00:02<00:01,  2.51it/s]\u001b[A\n",
      " 70%|█████████████████████████████████████████████████████████▍                        | 7/10 [00:02<00:01,  2.49it/s]\u001b[A\n",
      " 80%|█████████████████████████████████████████████████████████████████▌                | 8/10 [00:03<00:00,  2.47it/s]\u001b[A\n",
      " 90%|█████████████████████████████████████████████████████████████████████████▊        | 9/10 [00:03<00:00,  2.46it/s]\u001b[A\n",
      "100%|█████████████████████████████████████████████████████████████████████████████████| 10/10 [00:04<00:00,  2.47it/s]\u001b[A\n",
      "100%|█████████████████████████████████████████████████████████████████████████████████| 10/10 [00:40<00:00,  4.06s/it]\n"
     ]
    }
   ],
   "source": [
    "from tqdm import tqdm\n",
    "\n",
    "fm_a = torch.tensor(fms[4], requires_grad=True)\n",
    "gamma_a = torch.tensor(gammas[4], requires_grad=True)\n",
    "anchor = generate_am_chirp([f0, fm_a, gamma_a], sr=sr, duration=duration)\n",
    "Sx_anchor = jtfs(anchor.cuda()).detach()\n",
    "x, y, u, v = [], [], [], []\n",
    "for fm in tqdm(fms):\n",
    "    for gamma in tqdm(gammas):\n",
    "        fm = torch.tensor(fm, requires_grad=True)\n",
    "        gamma = torch.tensor(gamma, requires_grad=True)\n",
    "        audio = generate_am_chirp([f0, fm, gamma], sr=sr, duration=duration)\n",
    "        \n",
    "        loss = torch.norm(jtfs(audio.cuda()) - Sx_anchor, p=2)\n",
    "        loss.backward()\n",
    "        x.append(float(fm))\n",
    "        y.append(float(gamma))\n",
    "        u.append(float(- fm.grad))\n",
    "        v.append(float(- gamma.grad)) # / LOSS"
   ]
  },
  {
   "cell_type": "code",
   "execution_count": 61,
   "id": "1a0deac1",
   "metadata": {},
   "outputs": [
    {
     "data": {
      "image/png": "[encoded data removed]",
      "text/plain": [
       "<Figure size 432x288 with 1 Axes>"
      ]
     },
     "metadata": {
      "needs_background": "light"
     },
     "output_type": "display_data"
    }
   ],
   "source": [
    "import matplotlib.pyplot as plt\n",
    "plt.figure()\n",
    "\n",
    "plt.scatter(x, y, color='r')\n",
    "\n",
    "u = np.array(u)\n",
    "v = np.array(v)\n",
    "grads = np.stack([u, v])\n",
    "grads = grads / (np.linalg.norm(grads, axis=0) + 1e-8)\n",
    "plt.quiver(x, y, grads[0, :], grads[1, :])\n",
    "\n",
    "plt.scatter([fms[4]], [gammas[4]], color='g')\n",
    "\n",
    "plt.xticks(np.arange(4, fms[-1] + 1))\n",
    "plt.yticks(np.arange(0.5, gammas[-1] + 1))\n",
    "plt.xlabel('AM (Hz)')\n",
    "plt.ylabel('FM (cycles / octave)')\n",
    "plt.show()"
   ]
  },
  {
   "cell_type": "code",
   "execution_count": 21,
   "id": "6a6d4fbe",
   "metadata": {},
   "outputs": [
    {
     "data": {
      "text/plain": [
       "(array([10.,  0.,  8.,  2.,  9.,  1., 10.,  0.,  8., 52.]),\n",
       " array([-50.77476914, -45.0492828 , -39.32379646, -33.59831012,\n",
       "        -27.87282378, -22.14733744, -16.4218511 , -10.69636476,\n",
       "         -4.97087842,   0.75460792,   6.48009426]),\n",
       " <BarContainer object of 10 artists>)"
      ]
     },
     "execution_count": 21,
     "metadata": {},
     "output_type": "execute_result"
    },
    {
     "data": {
      "image/png": "[encoded data removed]",
      "text/plain": [
       "<Figure size 432x288 with 1 Axes>"
      ]
     },
     "metadata": {
      "needs_background": "light"
     },
     "output_type": "display_data"
    }
   ],
   "source": [
    "n = 10\n",
    "F0 = 512\n",
    "a = torch.linspace(4, 16,  n)\n",
    "b = torch.linspace(0.5, 4,  n)\n",
    "AM = a.repeat(10)\n",
    "FM = b.repeat(n, 1).t().contiguous().view(-1)\n",
    "AM.requires_grad = True\n",
    "FM.requires_grad = True\n",
    "\n",
    "y_am, y_fm = torch.tensor([8.75]), torch.tensor([3.6])\n",
    "y = generate(512, y_am, y_fm, sr=sr, duration=duration)\n",
    "x = generate(512, AM[:, None], FM[:, None], sr=sr, duration=duration)\n",
    "Sx = []\n",
    "for i in range(n**2):\n",
    "    Sx.append(jtfs(x[i].cuda()).cpu())\n",
    "Sx = torch.cat(Sx)\n",
    "Sy = jtfs(y.cuda()).detach().cpu()\n",
    "loss = torch.nn.functional.pairwise_distance(Sx[:, :, 0], Sy[:, :, 0])\n",
    "loss.backward()"
   ]
  },
  {
   "cell_type": "code",
   "execution_count": null,
   "id": "52b49094",
   "metadata": {},
   "outputs": [],
   "source": []
  }
 ],
 "metadata": {
  "kernelspec": {
   "display_name": "Python 3 (ipykernel)",
   "language": "python",
   "name": "python3"
  },
  "language_info": {
   "codemirror_mode": {
    "name": "ipython",
    "version": 3
   },
   "file_extension": ".py",
   "mimetype": "text/x-python",
   "name": "python",
   "nbconvert_exporter": "python",
   "pygments_lexer": "ipython3",
   "version": "3.8.2"
  }
 },
 "nbformat": 4,
 "nbformat_minor": 5
}
