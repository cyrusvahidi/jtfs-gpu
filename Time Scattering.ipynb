{
 "cells": [
  {
   "cell_type": "code",
   "execution_count": null,
   "metadata": {},
   "outputs": [],
   "source": [
    "import numpy as np\n",
    "import matplotlib.pyplot as plt\n",
    "from kymatio.torch import Scattering1D\n",
    "\n",
    "audio = batch[0]\n",
    "\n",
    "scattering = Scattering1D(J=7, shape=audio.shape[-1], Q=8)\n",
    "s = scattering((audio.squeeze(1)))\n",
    "\n",
    "meta = scattering.meta()\n",
    "order0 = np.where(meta['order'] == 0)\n",
    "order1 = np.where(meta['order'] == 1)\n",
    "order2 = np.where(meta['order'] == 2)\n",
    "\n",
    "s.shape"
   ]
  },
  {
   "cell_type": "code",
   "execution_count": null,
   "metadata": {},
   "outputs": [],
   "source": [
    "plt.figure(figsize=(20, 30))\n",
    "plt.subplot(3, 1, 1)\n",
    "plt.plot(s[0][order0][0])\n",
    "plt.title('Zeroth-order scattering')"
   ]
  },
  {
   "cell_type": "code",
   "execution_count": null,
   "metadata": {},
   "outputs": [],
   "source": [
    "plt.figure(figsize=(20, 30))\n",
    "\n",
    "plt.subplot(3, 1, 2)\n",
    "plt.imshow(s[0][order1], aspect='auto', origin='lower')\n",
    "plt.title('First-order scattering')"
   ]
  },
  {
   "cell_type": "code",
   "execution_count": null,
   "metadata": {},
   "outputs": [],
   "source": [
    "plt.figure(figsize=(20, 30))\n",
    "plt.subplot(3, 1, 3)\n",
    "plt.imshow(s[0][order2], aspect='auto', origin='lower')\n",
    "plt.title('Second-order scattering')"
   ]
  }
 ],
 "metadata": {
  "kernelspec": {
   "display_name": "Python 3",
   "language": "python",
   "name": "python3"
  },
  "language_info": {
   "codemirror_mode": {
    "name": "ipython",
    "version": 3
   },
   "file_extension": ".py",
   "mimetype": "text/x-python",
   "name": "python",
   "nbconvert_exporter": "python",
   "pygments_lexer": "ipython3",
   "version": "3.8.2"
  }
 },
 "nbformat": 4,
 "nbformat_minor": 4
}
